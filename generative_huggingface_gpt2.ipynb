{
 "cells": [
  {
   "cell_type": "code",
   "execution_count": 2,
   "id": "2f874276-498a-487b-b469-dc1de4d80db3",
   "metadata": {
    "tags": []
   },
   "outputs": [],
   "source": [
    "!pip install -q transformers datasets"
   ]
  },
  {
   "cell_type": "markdown",
   "id": "c6120d30-7bba-4777-9de9-0bf27963db89",
   "metadata": {},
   "source": [
    "#### Example from https://huggingface.co/gpt2"
   ]
  },
  {
   "cell_type": "code",
   "execution_count": 8,
   "id": "bebe7b60-0565-46ff-9bc8-666972fb3917",
   "metadata": {
    "tags": []
   },
   "outputs": [
    {
     "name": "stderr",
     "output_type": "stream",
     "text": [
      "Setting `pad_token_id` to `eos_token_id`:50256 for open-end generation.\n"
     ]
    },
    {
     "data": {
      "text/plain": [
       "[{'generated_text': 'The tallest building in Hong Kong is 1.25 meters (1.65 ft.) and is situated at a depth of 745 feet (460 m'},\n",
       " {'generated_text': 'The tallest building in Hong Kong is just three blocks and 17 meters tall.\\n\\nSome 40 buildings are being constructed, and the number is expected to'},\n",
       " {'generated_text': \"The tallest building in Hong Kong is currently being renovated, designed by China's Hubei Group. It's more than eight stories tall, is at\"},\n",
       " {'generated_text': 'The tallest building in Hong Kong is a skyscraper called \"Lungshan Bridge\" that rises from the island of Hong Kong. It is being'},\n",
       " {'generated_text': 'The tallest building in Hong Kong is the Royal Garden, but other skyscrapers have had their doors slammed into.\\n\\nJust last year, the'}]"
      ]
     },
     "execution_count": 8,
     "metadata": {},
     "output_type": "execute_result"
    }
   ],
   "source": [
    "from transformers import pipeline, set_seed\n",
    "generator = pipeline('text-generation', model='gpt2')\n",
    "set_seed(42)\n",
    "generator(\"The tallest building in Hong Kong is\", max_length=30, num_return_sequences=5)\n"
   ]
  },
  {
   "cell_type": "markdown",
   "id": "589b48f7-e8b4-4dac-a722-3c5dff73f416",
   "metadata": {},
   "source": [
    "### Deployment as an endpoint on SageMaker"
   ]
  },
  {
   "cell_type": "code",
   "execution_count": 9,
   "id": "4dbb6e3f-0d26-4685-ab37-db7fe7a8679f",
   "metadata": {
    "tags": []
   },
   "outputs": [],
   "source": [
    "from sagemaker.huggingface import HuggingFaceModel\n",
    "import sagemaker"
   ]
  },
  {
   "cell_type": "code",
   "execution_count": null,
   "id": "cccebbb9-7cee-4d8e-ae0b-64345ae76979",
   "metadata": {},
   "outputs": [],
   "source": []
  },
  {
   "cell_type": "code",
   "execution_count": 10,
   "id": "e7c11b07-29ff-4ea4-9168-8fc6008552c8",
   "metadata": {
    "tags": []
   },
   "outputs": [],
   "source": [
    "role = sagemaker.get_execution_role()"
   ]
  },
  {
   "cell_type": "code",
   "execution_count": 11,
   "id": "0303fcba-02ec-4387-8f8d-d60216219547",
   "metadata": {
    "tags": []
   },
   "outputs": [],
   "source": [
    "# Hub Model configuration. https://huggingface.co/models\n",
    "hub = {\n",
    "    'HF_MODEL_ID':'gpt2',\n",
    "    'HF_TASK':'text-generation'\n",
    "}\n",
    "# create Hugging Face Model Class\n",
    "huggingface_model = HuggingFaceModel(\n",
    "    transformers_version='4.17.0',\n",
    "    pytorch_version='1.10.2',\n",
    "    py_version='py38',\n",
    "    env=hub,\n",
    "    role=role, \n",
    ")"
   ]
  },
  {
   "cell_type": "code",
   "execution_count": 12,
   "id": "d505a7c4-6356-42dd-b85e-0e873e06f9c0",
   "metadata": {
    "tags": []
   },
   "outputs": [
    {
     "name": "stdout",
     "output_type": "stream",
     "text": [
      "----------!"
     ]
    }
   ],
   "source": [
    "# deploy model to SageMaker Inference\n",
    "predictor = huggingface_model.deploy(\n",
    "    initial_instance_count=1, # number of instances\n",
    "    instance_type=\"ml.g4dn.xlarge\" # ec2 instance type\n",
    ")\n"
   ]
  },
  {
   "cell_type": "code",
   "execution_count": null,
   "id": "14f293f0-09e5-4133-ac09-a1a10195b388",
   "metadata": {
    "tags": []
   },
   "outputs": [],
   "source": []
  },
  {
   "cell_type": "code",
   "execution_count": 13,
   "id": "588e5930-8ee3-4937-a94a-aa917b11d5a5",
   "metadata": {
    "tags": []
   },
   "outputs": [],
   "source": [
    "text = {\n",
    "    \"inputs\": \"The tallest building in Hong Kong is\"\n",
    "}"
   ]
  },
  {
   "cell_type": "code",
   "execution_count": 16,
   "id": "412eb876-22b3-4d77-b63a-98b1f2101816",
   "metadata": {
    "tags": []
   },
   "outputs": [
    {
     "data": {
      "text/plain": [
       "[{'generated_text': \"The tallest building in Hong Kong is a three-storey tower by the Chinese New Year's Day building (pictured)) and is owned by the Hong Kong family of companies. But it was recently bought from family and is managed by a couple who own\"}]"
      ]
     },
     "execution_count": 16,
     "metadata": {},
     "output_type": "execute_result"
    }
   ],
   "source": [
    "predictor.predict(text)"
   ]
  },
  {
   "cell_type": "code",
   "execution_count": 86,
   "id": "012f073b-216a-4a0a-9a2a-c5c832378ba7",
   "metadata": {
    "tags": []
   },
   "outputs": [],
   "source": [
    "# predictor.delete_endpoint()"
   ]
  },
  {
   "cell_type": "markdown",
   "id": "61dc5f0f-e5dc-4171-b923-f7e9e2821b73",
   "metadata": {},
   "source": [
    "## Inference with SDK Boto3"
   ]
  },
  {
   "cell_type": "code",
   "execution_count": 17,
   "id": "839bba15-c4c0-4d0a-a077-26c8b67dbbe0",
   "metadata": {
    "tags": []
   },
   "outputs": [],
   "source": [
    "import boto3\n",
    "import json"
   ]
  },
  {
   "cell_type": "code",
   "execution_count": 18,
   "id": "1c3df389-20fc-45d0-b6f2-c8dfe2418453",
   "metadata": {
    "tags": []
   },
   "outputs": [],
   "source": [
    "runtime = boto3.client(\"sagemaker-runtime\")"
   ]
  },
  {
   "cell_type": "code",
   "execution_count": 22,
   "id": "84d22232-e892-4250-bdc6-5a6bfc8a3bed",
   "metadata": {
    "tags": []
   },
   "outputs": [],
   "source": [
    "endpoint_name = \"huggingface-pytorch-inference-2023-03-16-12-06-48-331\""
   ]
  },
  {
   "cell_type": "code",
   "execution_count": 23,
   "id": "2d701c5c-d278-4c90-9f41-587a7d2b205f",
   "metadata": {
    "tags": []
   },
   "outputs": [],
   "source": [
    "text = {\n",
    "    \"inputs\": \"The tallest building in Hong Kong is\"\n",
    "}"
   ]
  },
  {
   "cell_type": "code",
   "execution_count": 24,
   "id": "2818f80c-23da-4ee6-955e-05819eaf8d72",
   "metadata": {
    "tags": []
   },
   "outputs": [
    {
     "name": "stdout",
     "output_type": "stream",
     "text": [
      "b'[{\"generated_text\":\"The tallest building in Hong Kong is at 9,700 meters but I think we\\'ve hit the right place for this.\\\\\"\\\\n\\\\nThe tall building sits about 300 meters across.\\\\n\\\\nThe tower is on the property of Jiajia Capital Holdings\"}]'\n"
     ]
    }
   ],
   "source": [
    "response = runtime.invoke_endpoint(\n",
    "    EndpointName=endpoint_name,\n",
    "    Body=json.dumps(text),\n",
    "    ContentType=\"application/json\",\n",
    ")\n",
    "\n",
    "print(response[\"Body\"].read())"
   ]
  },
  {
   "cell_type": "code",
   "execution_count": null,
   "id": "70e3ba10-cce4-4625-b19e-0d4a2af0b617",
   "metadata": {},
   "outputs": [],
   "source": []
  }
 ],
 "metadata": {
  "kernelspec": {
   "display_name": "conda_pytorch_p39",
   "language": "python",
   "name": "conda_pytorch_p39"
  },
  "language_info": {
   "codemirror_mode": {
    "name": "ipython",
    "version": 3
   },
   "file_extension": ".py",
   "mimetype": "text/x-python",
   "name": "python",
   "nbconvert_exporter": "python",
   "pygments_lexer": "ipython3",
   "version": "3.9.15"
  }
 },
 "nbformat": 4,
 "nbformat_minor": 5
}
