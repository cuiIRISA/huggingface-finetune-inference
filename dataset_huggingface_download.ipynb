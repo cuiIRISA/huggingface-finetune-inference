{
 "cells": [
  {
   "cell_type": "code",
   "execution_count": null,
   "id": "a51c0d88-d742-44b9-9e99-d93e52cf4f4b",
   "metadata": {
    "tags": []
   },
   "outputs": [],
   "source": [
    "!pip install -q transformers datasets"
   ]
  },
  {
   "cell_type": "code",
   "execution_count": null,
   "id": "05d88de6-6b4d-4426-a677-e3dbd815b1ff",
   "metadata": {
    "tags": []
   },
   "outputs": [],
   "source": [
    "from datasets import load_dataset\n",
    "\n",
    "dataset = load_dataset(\"sem_eval_2018_task_1\", \"subtask5.english\")"
   ]
  },
  {
   "cell_type": "code",
   "execution_count": null,
   "id": "d47f8fea-de25-4bb7-bf39-187a28c4c968",
   "metadata": {
    "tags": []
   },
   "outputs": [],
   "source": [
    "dataset"
   ]
  },
  {
   "cell_type": "code",
   "execution_count": null,
   "id": "220907b8-ec92-418f-8a05-fd68cac2484b",
   "metadata": {
    "tags": []
   },
   "outputs": [],
   "source": [
    "dataset['train']"
   ]
  },
  {
   "cell_type": "code",
   "execution_count": null,
   "id": "a74327f7-1595-4014-89c7-2e5e9d83a1cb",
   "metadata": {
    "tags": []
   },
   "outputs": [],
   "source": [
    "example = dataset['train'][0]\n",
    "example"
   ]
  },
  {
   "cell_type": "code",
   "execution_count": null,
   "id": "9151d7a1-6575-40f6-ae5d-a1d4bb71ea7f",
   "metadata": {
    "tags": []
   },
   "outputs": [],
   "source": [
    "# assume that we have already loaded the dataset called \"dataset\"\n",
    "for split, data in dataset.items():\n",
    "    data.to_csv(f\"./dataset/sem_eval_2018_task_1_{split}.csv\", index = None)"
   ]
  },
  {
   "cell_type": "code",
   "execution_count": null,
   "id": "0c691ddf-901c-42e3-b2f5-076c66ee1306",
   "metadata": {
    "tags": []
   },
   "outputs": [],
   "source": [
    "labels = [label for label in dataset['train'].features.keys() if label not in ['ID', 'Tweet']]"
   ]
  },
  {
   "cell_type": "code",
   "execution_count": null,
   "id": "43d76cfa-32a2-4207-882d-16ac99168aef",
   "metadata": {},
   "outputs": [],
   "source": []
  }
 ],
 "metadata": {
  "kernelspec": {
   "display_name": "conda_pytorch_p39",
   "language": "python",
   "name": "conda_pytorch_p39"
  },
  "language_info": {
   "codemirror_mode": {
    "name": "ipython",
    "version": 3
   },
   "file_extension": ".py",
   "mimetype": "text/x-python",
   "name": "python",
   "nbconvert_exporter": "python",
   "pygments_lexer": "ipython3",
   "version": "3.9.15"
  }
 },
 "nbformat": 4,
 "nbformat_minor": 5
}
