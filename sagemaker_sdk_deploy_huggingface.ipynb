{
 "cells": [
  {
   "cell_type": "code",
   "execution_count": null,
   "id": "cca30dfe-50ee-4fa7-9dd3-bee9a761c78f",
   "metadata": {
    "tags": []
   },
   "outputs": [],
   "source": [
    "import sagemaker.huggingface"
   ]
  },
  {
   "cell_type": "code",
   "execution_count": null,
   "id": "c71b2bbb-636f-4ce3-baf0-d951e989a36a",
   "metadata": {
    "tags": []
   },
   "outputs": [],
   "source": [
    "import sagemaker\n",
    "\n",
    "sess = sagemaker.Session()\n",
    "# sagemaker session bucket -> used for uploading data, models and logs\n",
    "# sagemaker will automatically create this bucket if it not exists\n",
    "sagemaker_session_bucket=None\n",
    "if sagemaker_session_bucket is None and sess is not None:\n",
    "    # set to default bucket if a bucket name is not given\n",
    "    sagemaker_session_bucket = sess.default_bucket()\n",
    "\n",
    "role = sagemaker.get_execution_role()\n",
    "sess = sagemaker.Session(default_bucket=sagemaker_session_bucket)\n",
    "\n",
    "print(f\"sagemaker role arn: {role}\")\n",
    "print(f\"sagemaker bucket: {sess.default_bucket()}\")\n",
    "print(f\"sagemaker session region: {sess.boto_region_name}\")"
   ]
  },
  {
   "cell_type": "code",
   "execution_count": null,
   "id": "d0789553-9676-40e2-a15b-0558bb19b188",
   "metadata": {
    "tags": []
   },
   "outputs": [],
   "source": [
    "import boto3\n",
    "import os\n",
    "\n",
    "training_job_name = \"huggingface-finetune-twitter2023-03-17--2023-03-17-03-24-18-446\"\n",
    "s3_model_location = 's3://{}/{}/output/model.tar.gz'.format(sagemaker_session_bucket, training_job_name)\n",
    "s3_model_location"
   ]
  },
  {
   "cell_type": "code",
   "execution_count": null,
   "id": "84c201ba-19eb-42bb-aeb6-a91b1d06b84d",
   "metadata": {
    "tags": []
   },
   "outputs": [],
   "source": [
    "!pygmentize ./scripts/inference_nlp_bert_sm_compatible.py"
   ]
  },
  {
   "cell_type": "code",
   "execution_count": null,
   "id": "ee8210b2-bc51-4801-bfe0-167c01017ab8",
   "metadata": {
    "tags": []
   },
   "outputs": [],
   "source": [
    "instance_type = \"ml.g4dn.xlarge\""
   ]
  },
  {
   "cell_type": "code",
   "execution_count": null,
   "id": "ab9cc686-d54a-46e2-a0d3-e45a2878005d",
   "metadata": {
    "tags": []
   },
   "outputs": [],
   "source": [
    "s3_model_location"
   ]
  },
  {
   "cell_type": "code",
   "execution_count": null,
   "id": "4722d8b4-89a3-464e-b766-43174719d9c2",
   "metadata": {
    "tags": []
   },
   "outputs": [],
   "source": [
    "from sagemaker.huggingface.model import HuggingFaceModel\n",
    "\n",
    "# create Hugging Face Model Class\n",
    "huggingface_model = HuggingFaceModel(\n",
    "   model_data=s3_model_location, # path to your model and script\n",
    "   entry_point=\"./scripts/inference_nlp_bert_sm_compatible.py\",\n",
    "   source_dir = './scripts',\n",
    "   role=role,\n",
    "   transformers_version=\"4.6\",  # transformers version used\n",
    "   pytorch_version=\"1.7\",        # pytorch version used\n",
    "   py_version='py36',            # python version used\n",
    ")"
   ]
  },
  {
   "cell_type": "code",
   "execution_count": null,
   "id": "02756223-6090-4db0-a91a-5b3a108e51be",
   "metadata": {
    "tags": []
   },
   "outputs": [],
   "source": [
    "# deploy model to SageMaker Inference\n",
    "predictor = huggingface_model.deploy(\n",
    "   initial_instance_count=1,\n",
    "   instance_type=instance_type\n",
    ")"
   ]
  },
  {
   "cell_type": "code",
   "execution_count": null,
   "id": "24df5acb-7131-4a1c-b57c-e6c68db1a7e3",
   "metadata": {},
   "outputs": [],
   "source": []
  },
  {
   "cell_type": "code",
   "execution_count": null,
   "id": "f33fe110-a039-4e8d-add1-f26184e66194",
   "metadata": {
    "tags": []
   },
   "outputs": [],
   "source": [
    "predictions = predictor.predict(\"I am so happy about this situation\")"
   ]
  },
  {
   "cell_type": "code",
   "execution_count": null,
   "id": "d547e3a3-ffcf-4758-938e-00b2a635018f",
   "metadata": {
    "tags": []
   },
   "outputs": [],
   "source": [
    "predictions"
   ]
  },
  {
   "cell_type": "code",
   "execution_count": null,
   "id": "6f2c79ba-107d-4df0-a01c-6b20f9dbdf40",
   "metadata": {
    "tags": []
   },
   "outputs": [],
   "source": [
    "#predictor.delete_endpoint()"
   ]
  },
  {
   "cell_type": "markdown",
   "id": "a99b3d89-9475-4ec8-8658-690866c15156",
   "metadata": {},
   "source": [
    "## Inference with SDK Boto3"
   ]
  },
  {
   "cell_type": "code",
   "execution_count": null,
   "id": "e5397fb4-4063-4de8-9d74-62131a93105b",
   "metadata": {
    "tags": []
   },
   "outputs": [],
   "source": [
    "import boto3\n",
    "import json"
   ]
  },
  {
   "cell_type": "code",
   "execution_count": null,
   "id": "f41e5d20-6535-4f1e-9254-1462897a1aa4",
   "metadata": {
    "tags": []
   },
   "outputs": [],
   "source": [
    "runtime = boto3.client(\"sagemaker-runtime\")"
   ]
  },
  {
   "cell_type": "code",
   "execution_count": null,
   "id": "9754dd27-f610-4976-a7c9-67d7b9dde684",
   "metadata": {
    "tags": []
   },
   "outputs": [],
   "source": [
    "endpoint_name = \"huggingface-pytorch-inference-2023-03-17-05-59-15-741\""
   ]
  },
  {
   "cell_type": "code",
   "execution_count": null,
   "id": "194212c7-0f8b-40ad-9f83-bf530d94cfdf",
   "metadata": {
    "tags": []
   },
   "outputs": [],
   "source": [
    "input_json = \"I am so happy about this situation\"\n",
    "#input_json = \"Dont worry Indian army is on its ways to dispatch all Terrorists to Hell\""
   ]
  },
  {
   "cell_type": "code",
   "execution_count": null,
   "id": "c4f010a6-1692-4bb3-a630-9fc138b0d296",
   "metadata": {
    "tags": []
   },
   "outputs": [],
   "source": [
    "def prediction_with_endpoint(endpoint_name,runtime,text):\n",
    "    response = runtime.invoke_endpoint(\n",
    "        EndpointName=endpoint_name,\n",
    "        Body=json.dumps(text),\n",
    "        ContentType=\"application/json\",\n",
    "    )\n",
    "    results = response[\"Body\"].read()\n",
    "    return json.loads(results)"
   ]
  },
  {
   "cell_type": "code",
   "execution_count": null,
   "id": "aaafac9b-9339-4ca4-972d-2f96766eed45",
   "metadata": {
    "tags": []
   },
   "outputs": [],
   "source": [
    "print(prediction_with_endpoint(endpoint_name, runtime, input_json))"
   ]
  },
  {
   "cell_type": "markdown",
   "id": "b7267cf7-035c-4bee-a28f-9bf93b1cb81b",
   "metadata": {},
   "source": [
    "## Evaluation on twitter dataset"
   ]
  },
  {
   "cell_type": "code",
   "execution_count": null,
   "id": "a74029c2-4d15-47e3-912f-fce7281f3516",
   "metadata": {
    "tags": []
   },
   "outputs": [],
   "source": [
    "import pandas as pd \n",
    "import numpy as np"
   ]
  },
  {
   "cell_type": "code",
   "execution_count": null,
   "id": "1a0146dc-1583-45f7-84b3-ce2a5f55799d",
   "metadata": {
    "tags": []
   },
   "outputs": [],
   "source": [
    "df = pd.read_csv(\"./dataset/sem_eval_2018_task_1_test.csv\")"
   ]
  },
  {
   "cell_type": "code",
   "execution_count": null,
   "id": "ebf6bda1-de02-4ed7-b2c7-34845d89a827",
   "metadata": {
    "tags": []
   },
   "outputs": [],
   "source": [
    "label_name = [label for label in df.columns if label not in ['ID', 'Tweet']]\n",
    "id2label = {idx:label for idx, label in enumerate(label_name)}\n",
    "id2label"
   ]
  },
  {
   "cell_type": "code",
   "execution_count": null,
   "id": "fb7fe957-ad7a-430e-8827-8798751cd95f",
   "metadata": {
    "tags": []
   },
   "outputs": [],
   "source": [
    "label_index = df.iloc[:,2:].astype(int)\n",
    "label_index.head(5)"
   ]
  },
  {
   "cell_type": "code",
   "execution_count": null,
   "id": "c4484bcb-6010-45c3-9021-cf9b51c77885",
   "metadata": {
    "tags": []
   },
   "outputs": [],
   "source": [
    "text_tweet = df.loc[:,[\"Tweet\"]].values.tolist()"
   ]
  },
  {
   "cell_type": "code",
   "execution_count": null,
   "id": "3a364698-f935-45de-a9b1-dd334f02f0e8",
   "metadata": {
    "tags": []
   },
   "outputs": [],
   "source": [
    "text_tweet[2]"
   ]
  },
  {
   "cell_type": "code",
   "execution_count": null,
   "id": "33f25d57-2dd4-40b7-b533-ba8214eba474",
   "metadata": {
    "tags": []
   },
   "outputs": [],
   "source": [
    "results = prediction_with_endpoint(endpoint_name, runtime, text_tweet[2])\n",
    "results"
   ]
  },
  {
   "cell_type": "code",
   "execution_count": null,
   "id": "047689df-fecd-476f-8a09-fb377e963546",
   "metadata": {
    "tags": []
   },
   "outputs": [],
   "source": [
    "def proba_to_label(prediction_proba,id2label,threshold):\n",
    "    prediction_label = []\n",
    "    for index in range(len(prediction_proba)):\n",
    "        if prediction_proba[index] > threshold:\n",
    "            prediction_label.append(id2label[index])\n",
    "            \n",
    "    return prediction_label"
   ]
  },
  {
   "cell_type": "code",
   "execution_count": null,
   "id": "1e9d03e6-2ee4-42f7-8165-dbe3708c9ba9",
   "metadata": {
    "tags": []
   },
   "outputs": [],
   "source": [
    "print(proba_to_label(results[0],id2label,0.5))"
   ]
  },
  {
   "cell_type": "markdown",
   "id": "e88bc5f8-acf7-4a23-8910-5623e5b4393c",
   "metadata": {},
   "source": [
    "### Prediction over entire dataset"
   ]
  },
  {
   "cell_type": "code",
   "execution_count": null,
   "id": "400349a8-6372-437c-8398-fc5d93050f7c",
   "metadata": {
    "tags": []
   },
   "outputs": [],
   "source": [
    "predictions_proba = np.zeros_like(label_index,dtype=float)"
   ]
  },
  {
   "cell_type": "markdown",
   "id": "ad9151f6-5beb-4c0e-8905-78b866de5c46",
   "metadata": {},
   "source": [
    "#### real-time endpoints that make one prediction at a time, over http "
   ]
  },
  {
   "cell_type": "code",
   "execution_count": null,
   "id": "5c25f96b-0798-4fa8-ba38-fed722968c6e",
   "metadata": {
    "tags": []
   },
   "outputs": [],
   "source": [
    "for index in range(len(text_tweet)):\n",
    "    result = prediction_with_endpoint(endpoint_name, runtime, text_tweet[index])\n",
    "    result = np.squeeze(np.array(result), axis=0)    \n",
    "    predictions_proba[index,:] = result    "
   ]
  },
  {
   "cell_type": "code",
   "execution_count": null,
   "id": "4bc851db-06e8-44ad-a3f9-bb6cf056dc38",
   "metadata": {
    "tags": []
   },
   "outputs": [],
   "source": [
    "from sklearn.metrics import f1_score, precision_score, recall_score"
   ]
  },
  {
   "cell_type": "code",
   "execution_count": null,
   "id": "1582d021-f677-4804-8cda-33c1ecd98782",
   "metadata": {
    "tags": []
   },
   "outputs": [],
   "source": [
    "def multi_label_metrics(labels, predictions_proba, threshold = 0.5):\n",
    "    y_true = labels\n",
    "\n",
    "    predictions = np.zeros_like(labels)\n",
    "    predictions[np.where(predictions_proba >= threshold)] = 1\n",
    "    \n",
    "    y_pred = predictions\n",
    "    precision = precision_score(y_true, y_pred, average='micro')\n",
    "    recall = recall_score(y_true, y_pred, average='micro')\n",
    "    f1_micro_average = f1_score(y_true, y_pred, average='micro')\n",
    "    \n",
    "    metrics = {'precision': precision,\n",
    "               'recall': recall,\n",
    "               'f1': f1_micro_average}\n",
    "    return metrics"
   ]
  },
  {
   "cell_type": "code",
   "execution_count": null,
   "id": "e36d06c8-545f-4200-8d66-f21988e6b51d",
   "metadata": {
    "tags": []
   },
   "outputs": [],
   "source": [
    "metrics = multi_label_metrics(label_index, predictions_proba, threshold = 0.3)"
   ]
  },
  {
   "cell_type": "code",
   "execution_count": null,
   "id": "e1e8b860-3edb-4609-b3e7-c6747620e832",
   "metadata": {
    "tags": []
   },
   "outputs": [],
   "source": [
    "metrics"
   ]
  },
  {
   "cell_type": "code",
   "execution_count": null,
   "id": "e461db25-87a1-4cb1-81b3-6cabdaea9e8b",
   "metadata": {},
   "outputs": [],
   "source": []
  }
 ],
 "metadata": {
  "kernelspec": {
   "display_name": "conda_pytorch_p39",
   "language": "python",
   "name": "conda_pytorch_p39"
  },
  "language_info": {
   "codemirror_mode": {
    "name": "ipython",
    "version": 3
   },
   "file_extension": ".py",
   "mimetype": "text/x-python",
   "name": "python",
   "nbconvert_exporter": "python",
   "pygments_lexer": "ipython3",
   "version": "3.9.15"
  }
 },
 "nbformat": 4,
 "nbformat_minor": 5
}
