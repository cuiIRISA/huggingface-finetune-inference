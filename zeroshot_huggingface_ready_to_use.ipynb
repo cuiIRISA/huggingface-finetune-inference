{
 "cells": [
  {
   "cell_type": "code",
   "execution_count": null,
   "id": "2f874276-498a-487b-b469-dc1de4d80db3",
   "metadata": {
    "tags": []
   },
   "outputs": [],
   "source": [
    "!pip install -q transformers datasets"
   ]
  },
  {
   "cell_type": "markdown",
   "id": "c6120d30-7bba-4777-9de9-0bf27963db89",
   "metadata": {},
   "source": [
    "#### Example from https://huggingface.co/tasks/zero-shot-classification"
   ]
  },
  {
   "cell_type": "code",
   "execution_count": null,
   "id": "bebe7b60-0565-46ff-9bc8-666972fb3917",
   "metadata": {
    "tags": []
   },
   "outputs": [],
   "source": [
    "from transformers import pipeline\n",
    "classifier = pipeline(\"zero-shot-classification\", model=\"MoritzLaurer/DeBERTa-v3-large-mnli-fever-anli-ling-wanli\")\n",
    "sequence_to_classify = \"Angela Merkel is a politician in Germany and leader of the CDU\"\n",
    "candidate_labels = [\"politics\", \"economy\", \"entertainment\", \"environment\"]\n",
    "output = classifier(sequence_to_classify, candidate_labels, multi_label=False)\n",
    "print(output)"
   ]
  },
  {
   "cell_type": "markdown",
   "id": "589b48f7-e8b4-4dac-a722-3c5dff73f416",
   "metadata": {},
   "source": [
    "### Deployment as an endpoint on SageMaker"
   ]
  },
  {
   "cell_type": "code",
   "execution_count": null,
   "id": "4dbb6e3f-0d26-4685-ab37-db7fe7a8679f",
   "metadata": {
    "tags": []
   },
   "outputs": [],
   "source": [
    "from sagemaker.huggingface import HuggingFaceModel\n",
    "import sagemaker"
   ]
  },
  {
   "cell_type": "code",
   "execution_count": null,
   "id": "e7c11b07-29ff-4ea4-9168-8fc6008552c8",
   "metadata": {
    "tags": []
   },
   "outputs": [],
   "source": [
    "role = sagemaker.get_execution_role()"
   ]
  },
  {
   "cell_type": "code",
   "execution_count": null,
   "id": "0303fcba-02ec-4387-8f8d-d60216219547",
   "metadata": {
    "tags": []
   },
   "outputs": [],
   "source": [
    "# Hub Model configuration. https://huggingface.co/models\n",
    "hub = {\n",
    "    'HF_MODEL_ID':'MoritzLaurer/DeBERTa-v3-large-mnli-fever-anli-ling-wanli',\n",
    "    'HF_TASK':'zero-shot-classification'\n",
    "}\n",
    "# create Hugging Face Model Class\n",
    "huggingface_model = HuggingFaceModel(\n",
    "    transformers_version='4.17.0',\n",
    "    pytorch_version='1.10.2',\n",
    "    py_version='py38',\n",
    "    env=hub,\n",
    "    role=role, \n",
    ")"
   ]
  },
  {
   "cell_type": "code",
   "execution_count": null,
   "id": "d505a7c4-6356-42dd-b85e-0e873e06f9c0",
   "metadata": {
    "tags": []
   },
   "outputs": [],
   "source": [
    "# deploy model to SageMaker Inference\n",
    "predictor = huggingface_model.deploy(\n",
    "    initial_instance_count=1, # number of instances\n",
    "    instance_type=\"ml.g4dn.xlarge\" # ec2 instance type\n",
    ")\n"
   ]
  },
  {
   "cell_type": "code",
   "execution_count": null,
   "id": "14f293f0-09e5-4133-ac09-a1a10195b388",
   "metadata": {
    "tags": []
   },
   "outputs": [],
   "source": []
  },
  {
   "cell_type": "code",
   "execution_count": null,
   "id": "588e5930-8ee3-4937-a94a-aa917b11d5a5",
   "metadata": {
    "tags": []
   },
   "outputs": [],
   "source": [
    "text = {\n",
    "    \"inputs\": \"one day I will see the world\", \n",
    "    \"parameters\": {\n",
    "        \"candidate_labels\": ['travel', 'cooking', 'dancing']\n",
    "    }\n",
    "}"
   ]
  },
  {
   "cell_type": "code",
   "execution_count": null,
   "id": "412eb876-22b3-4d77-b63a-98b1f2101816",
   "metadata": {
    "tags": []
   },
   "outputs": [],
   "source": [
    "predictor.predict(text)"
   ]
  },
  {
   "cell_type": "code",
   "execution_count": null,
   "id": "012f073b-216a-4a0a-9a2a-c5c832378ba7",
   "metadata": {
    "tags": []
   },
   "outputs": [],
   "source": [
    "# predictor.delete_endpoint()"
   ]
  },
  {
   "cell_type": "markdown",
   "id": "61dc5f0f-e5dc-4171-b923-f7e9e2821b73",
   "metadata": {},
   "source": [
    "## Inference with SDK Boto3"
   ]
  },
  {
   "cell_type": "code",
   "execution_count": null,
   "id": "6c27f883-cb63-4202-968d-1a397b4fb8c6",
   "metadata": {},
   "outputs": [],
   "source": []
  },
  {
   "cell_type": "code",
   "execution_count": null,
   "id": "62aa3fb9-f912-480e-bcf4-4315e5930a4f",
   "metadata": {},
   "outputs": [],
   "source": [
    "import pandas as pd \n",
    "import numpy as np"
   ]
  },
  {
   "cell_type": "code",
   "execution_count": null,
   "id": "7016485e-457d-479c-9522-3ddcc628a793",
   "metadata": {},
   "outputs": [],
   "source": [
    "df = pd.read_csv(\"./dataset/sem_eval_2018_task_1_test.csv\")"
   ]
  },
  {
   "cell_type": "code",
   "execution_count": null,
   "id": "30721a2a-6440-4f89-a03c-6580ec207b2d",
   "metadata": {},
   "outputs": [],
   "source": [
    "label_name = [label for label in df.columns if label not in ['ID', 'Tweet']]\n",
    "label_name"
   ]
  },
  {
   "cell_type": "code",
   "execution_count": null,
   "id": "8acd5b67-318c-41ad-89c3-c80792970cab",
   "metadata": {
    "tags": []
   },
   "outputs": [],
   "source": [
    "label_index = df.iloc[:,2:].astype(int)\n",
    "label_index.head(5)"
   ]
  },
  {
   "cell_type": "code",
   "execution_count": null,
   "id": "82af5831-5377-4613-b936-9440df1e9a14",
   "metadata": {
    "tags": []
   },
   "outputs": [],
   "source": [
    "text_tweet = df.loc[:,[\"Tweet\"]].values.tolist()"
   ]
  },
  {
   "cell_type": "code",
   "execution_count": null,
   "id": "3e65ca61-d95e-4a46-859a-4c6dd0163a35",
   "metadata": {
    "tags": []
   },
   "outputs": [],
   "source": [
    "text_tweet[0]"
   ]
  },
  {
   "cell_type": "code",
   "execution_count": null,
   "id": "7729d541-7f47-4b55-a415-452ed28e48c3",
   "metadata": {},
   "outputs": [],
   "source": []
  },
  {
   "cell_type": "code",
   "execution_count": null,
   "id": "839bba15-c4c0-4d0a-a077-26c8b67dbbe0",
   "metadata": {
    "tags": []
   },
   "outputs": [],
   "source": [
    "import boto3\n",
    "import json"
   ]
  },
  {
   "cell_type": "code",
   "execution_count": null,
   "id": "1c3df389-20fc-45d0-b6f2-c8dfe2418453",
   "metadata": {
    "tags": []
   },
   "outputs": [],
   "source": [
    "runtime = boto3.client(\"sagemaker-runtime\")"
   ]
  },
  {
   "cell_type": "code",
   "execution_count": null,
   "id": "84d22232-e892-4250-bdc6-5a6bfc8a3bed",
   "metadata": {
    "tags": []
   },
   "outputs": [],
   "source": [
    "endpoint_name = \"huggingface-pytorch-inference-2023-03-16-07-08-39-697\""
   ]
  },
  {
   "cell_type": "code",
   "execution_count": null,
   "id": "2d701c5c-d278-4c90-9f41-587a7d2b205f",
   "metadata": {
    "tags": []
   },
   "outputs": [],
   "source": []
  },
  {
   "cell_type": "code",
   "execution_count": null,
   "id": "4be73a29-849b-4dac-b3f4-32407f53d74c",
   "metadata": {
    "tags": []
   },
   "outputs": [],
   "source": [
    "input_json = {\n",
    "    \"inputs\": text_tweet[0], \n",
    "    \"parameters\": {\n",
    "        \"candidate_labels\": label_name\n",
    "    }\n",
    "}"
   ]
  },
  {
   "cell_type": "code",
   "execution_count": null,
   "id": "7265788f-e54b-4f33-ab5b-9b78e0e346d2",
   "metadata": {
    "tags": []
   },
   "outputs": [],
   "source": [
    "input_json"
   ]
  },
  {
   "cell_type": "code",
   "execution_count": null,
   "id": "2818f80c-23da-4ee6-955e-05819eaf8d72",
   "metadata": {
    "tags": []
   },
   "outputs": [],
   "source": [
    "response = runtime.invoke_endpoint(\n",
    "    EndpointName=endpoint_name,\n",
    "    Body=json.dumps(input_json),\n",
    "    ContentType=\"application/json\",\n",
    ")\n",
    "\n",
    "print(response[\"Body\"].read())"
   ]
  },
  {
   "cell_type": "code",
   "execution_count": null,
   "id": "70e3ba10-cce4-4625-b19e-0d4a2af0b617",
   "metadata": {},
   "outputs": [],
   "source": []
  }
 ],
 "metadata": {
  "kernelspec": {
   "display_name": "conda_pytorch_p39",
   "language": "python",
   "name": "conda_pytorch_p39"
  },
  "language_info": {
   "codemirror_mode": {
    "name": "ipython",
    "version": 3
   },
   "file_extension": ".py",
   "mimetype": "text/x-python",
   "name": "python",
   "nbconvert_exporter": "python",
   "pygments_lexer": "ipython3",
   "version": "3.9.15"
  }
 },
 "nbformat": 4,
 "nbformat_minor": 5
}
